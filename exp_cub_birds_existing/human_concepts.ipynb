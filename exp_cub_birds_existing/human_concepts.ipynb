{
 "cells": [
  {
   "cell_type": "markdown",
   "metadata": {},
   "source": [
    "# Prep dataset"
   ]
  },
  {
   "cell_type": "code",
   "execution_count": null,
   "metadata": {},
   "outputs": [],
   "source": [
    "!wget https://data.caltech.edu/records/65de6-vp158/files/CUB_200_2011.tgz?download=1"
   ]
  },
  {
   "cell_type": "code",
   "execution_count": null,
   "metadata": {},
   "outputs": [],
   "source": [
    "!tar -xvzf CUB_200_2011.tgz?download=1"
   ]
  },
  {
   "cell_type": "code",
   "execution_count": null,
   "metadata": {},
   "outputs": [],
   "source": [
    "# download clean attributes (image_attribute_labels_clean.txt) from here:\n",
    "https://www.kaggle.com/datasets/wenewone/cub2002011?resource=download"
   ]
  },
  {
   "cell_type": "markdown",
   "metadata": {},
   "source": [
    "# Fit linear model"
   ]
  },
  {
   "cell_type": "code",
   "execution_count": 5,
   "metadata": {},
   "outputs": [],
   "source": [
    "import pandas as pd\n",
    "import numpy as np\n",
    "from os.path import join\n",
    "from sklearn.linear_model import LogisticRegression, LogisticRegressionCV, LassoCV\n",
    "from sklearn.tree import DecisionTreeClassifier\n",
    "from sklearn.model_selection import train_test_split\n",
    "from sklearn.metrics import accuracy_score, roc_auc_score\n",
    "from tqdm import tqdm\n",
    "import joblib\n",
    "from collections import defaultdict\n",
    "from joblib import Memory\n",
    "import time\n",
    "memory = Memory(location='./CUB_200_cache', verbose=0)\n",
    "\n",
    "\n",
    "CUB_DSET_DIR = 'CUB_200_2011'\n",
    "# Load attribute labels\n",
    "# class_labels = pd.read_csv(join(CUB_DSET_DIR, 'classes.txt'),\n",
    "#    sep=' ', header=None, names=['class_id', 'class_name'])\n",
    "image_attribute_labels_clean = pd.read_csv(join(CUB_DSET_DIR, 'attributes/image_attribute_labels_clean.txt'),\n",
    "                                           sep=' ', header=None, names=['image_id', 'attribute_id', 'is_present', 'certainty_id', 'time'])\n",
    "\n",
    "# Load image-to-class mappings\n",
    "image_class_labels = pd.read_csv(join(\n",
    "    CUB_DSET_DIR, 'image_class_labels.txt'), sep=' ', header=None, names=['image_id', 'class_id'])\n",
    "image_classes = image_class_labels['class_id'].to_numpy()\n",
    "\n",
    "# Create a matrix of size num_images x num_attributes\n",
    "num_images = 11788\n",
    "num_attributes = 312"
   ]
  },
  {
   "cell_type": "code",
   "execution_count": null,
   "metadata": {},
   "outputs": [],
   "source": [
    "# Initialize a matrix with zeros\n",
    "matrix = np.zeros((num_images, num_attributes), dtype=int)\n",
    "\n",
    "# Populate the matrix with `is_present` values\n",
    "for _, row in tqdm(image_attribute_labels_clean.iterrows(), total=len(image_attribute_labels_clean)):\n",
    "    image_index = int(row['image_id'] - 1)  # Convert to 0-based index\n",
    "    attribute_index = int(row['attribute_id'] - 1)  # Convert to 0-based index\n",
    "    matrix[image_index, attribute_index] = row['is_present']\n",
    "\n",
    "# Convert to DataFrame for easy visualization\n",
    "# matrix_df = pd.DataFrame(matrix, columns=[f\"Attribute_{i+1}\" for i in range(num_attributes)],\n",
    "    #  index=[f\"Image_{i+1}\" for i in range(num_images)])\n",
    "joblib.dump(matrix, 'cub_matrix.pkl')"
   ]
  },
  {
   "cell_type": "code",
   "execution_count": null,
   "metadata": {},
   "outputs": [],
   "source": [
    "matrix = joblib.load('cub_matrix.pkl')"
   ]
  },
  {
   "cell_type": "code",
   "execution_count": null,
   "metadata": {},
   "outputs": [],
   "source": [
    "# these are 1-indexed\n",
    "CATEGORIES = {\n",
    "    'Albatross': [1, 2, 3],\n",
    "    'Auklet': [5, 6, 7, 8],\n",
    "    'Blackbird': [9, 10, 11, 12],\n",
    "    'Bunting': [14, 15, 16],\n",
    "    'Flycatcher': [37, 38, 39, 40, 41, 42, 43],\n",
    "    'Sparrow': [113, 114, 115, 116, 117, 118, 119, 120, 121, 122, 123, 124, 125, 126, 127, 128, 129, 130, 131, 132, 133],\n",
    "    'Tern': [141, 142, 143, 144, 145, 146, 147],\n",
    "}"
   ]
  },
  {
   "cell_type": "code",
   "execution_count": null,
   "metadata": {},
   "outputs": [
    {
     "name": "stderr",
     "output_type": "stream",
     "text": [
      "  0%|          | 0/5 [00:00<?, ?it/s]"
     ]
    }
   ],
   "source": [
    "@memory.cache\n",
    "def get_auc(X, y, random_state=42, model='logistic'):\n",
    "    # Split into train and test sets\n",
    "    X_train, X_test, y_train, y_test = train_test_split(\n",
    "        X, y, test_size=0.5, random_state=random_state)\n",
    "\n",
    "    # Train a logistic regression model\n",
    "    if model == 'logistic':\n",
    "        m = LogisticRegression(\n",
    "            max_iter=1000, solver='lbfgs', random_state=random_state)\n",
    "        m.fit(X_train, y_train)\n",
    "        frac_zero_coefs = np.mean(\n",
    "            np.abs(m.coef_) == 0)\n",
    "    elif model == 'tree':\n",
    "        m = DecisionTreeClassifier(max_depth=4)\n",
    "        m.fit(X_train, y_train)\n",
    "        frac_zero_coefs = np.mean(\n",
    "            np.abs(m.feature_importances_) == 0)\n",
    "    elif model == 'lassocv':\n",
    "        m = LogisticRegressionCV(\n",
    "            max_iter=200,\n",
    "            random_state=random_state,\n",
    "            penalty='l1',\n",
    "            Cs=3,\n",
    "            solver='saga',\n",
    "            cv=3\n",
    "        )\n",
    "        m.fit(X_train, y_train)\n",
    "        frac_zero_coefs = np.mean(\n",
    "            np.abs(m.coef_) == 0)\n",
    "\n",
    "    y_proba = m.predict_proba(X_test)\n",
    "    auc = roc_auc_score(y_test, y_proba, multi_class='ovr')\n",
    "    return auc, frac_zero_coefs\n",
    "\n",
    "\n",
    "d = defaultdict(list)\n",
    "for model in ['lassocv', 'logistic', 'tree']:\n",
    "    for category in CATEGORIES:\n",
    "        X = matrix[:, np.array(CATEGORIES[category]) - 1]\n",
    "        y = image_classes\n",
    "        for random_state in tqdm(range(5)):\n",
    "            auc, frac_zero_coefs = get_auc(\n",
    "                X, y, random_state=random_state, model=model)\n",
    "            d['auc'].append(auc)\n",
    "            d['frac_zero_coefs'].append(frac_zero_coefs)\n",
    "            d['model'].append(model)\n",
    "            d['category'].append(category)\n",
    "\n",
    "        df = pd.DataFrame(d)\n",
    "        display(df)\n",
    "\n",
    "    df.to_pickle(f'CUB_200_results_{model}.pkl')\n",
    "\n",
    "    # print(f\"{category} AUC: {np.mean(aucs):.4f} ± {1.96 * np.std(aucs):.4f}\")"
   ]
  }
 ],
 "metadata": {
  "kernelspec": {
   "display_name": ".env",
   "language": "python",
   "name": "python3"
  },
  "language_info": {
   "codemirror_mode": {
    "name": "ipython",
    "version": 3
   },
   "file_extension": ".py",
   "mimetype": "text/x-python",
   "name": "python",
   "nbconvert_exporter": "python",
   "pygments_lexer": "ipython3",
   "version": "3.11.11"
  }
 },
 "nbformat": 4,
 "nbformat_minor": 2
}
